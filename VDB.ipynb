{
 "cells": [
  {
   "cell_type": "markdown",
   "metadata": {},
   "source": [
    "## CSV Vector DB"
   ]
  },
  {
   "cell_type": "code",
   "execution_count": 23,
   "metadata": {},
   "outputs": [
    {
     "name": "stderr",
     "output_type": "stream",
     "text": [
      "Parsing nodes: 100%|██████████| 143/143 [00:00<00:00, 1518.40it/s]\n",
      "Generating embeddings: 100%|██████████| 143/143 [00:07<00:00, 18.19it/s]\n"
     ]
    }
   ],
   "source": [
    "import os\n",
    "import shutil\n",
    "from llama_index.core import SimpleDirectoryReader, VectorStoreIndex\n",
    "from dotenv import load_dotenv\n",
    "import openai\n",
    "from llama_index.embeddings.openai import (\n",
    "    OpenAIEmbedding,\n",
    "    OpenAIEmbeddingModelType\n",
    ")\n",
    "# Load environment variables\n",
    "load_dotenv()\n",
    "os.environ['OPENAI_API_KEY'] = os.getenv('OPENAI_API_KEY')\n",
    "# Read documents from the organized CSV folder\n",
    "reader = SimpleDirectoryReader(input_dir='data/preprocessed-1k-samples/CSV')\n",
    "docs = reader.load_data()\n",
    "\n",
    "# Load VectorStoreIndex directly from documents\n",
    "embed_model=OpenAIEmbedding(model=OpenAIEmbeddingModelType.TEXT_EMBED_3_LARGE,)\n",
    "index = VectorStoreIndex.from_documents(docs,embed_model=embed_model, show_progress=True)\n",
    "index.set_index_id('health')\n",
    "\n",
    "# Create the storage path if it doesn't exist\n",
    "os.makedirs('Health-RAG/RAG/VDB-1k-samples/CSV', exist_ok=True)\n",
    "\n",
    "# Persist the vector store\n",
    "index.storage_context.persist('Health-RAG/RAG/VDB-1k-samples/CSV')"
   ]
  },
  {
   "cell_type": "markdown",
   "metadata": {},
   "source": [
    "## PDF Vector DB\n"
   ]
  },
  {
   "cell_type": "code",
   "execution_count": 17,
   "metadata": {},
   "outputs": [
    {
     "name": "stderr",
     "output_type": "stream",
     "text": [
      "Parsing nodes: 100%|██████████| 15/15 [00:00<00:00, 266.01it/s]\n",
      "Generating embeddings: 100%|██████████| 15/15 [00:02<00:00,  5.33it/s]\n"
     ]
    }
   ],
   "source": [
    "import os\n",
    "import shutil\n",
    "from llama_index.core import SimpleDirectoryReader, VectorStoreIndex\n",
    "from dotenv import load_dotenv\n",
    "import openai\n",
    "from llama_index.embeddings.openai import (\n",
    "    OpenAIEmbedding,\n",
    "    OpenAIEmbeddingModelType\n",
    ")\n",
    "# Load environment variables\n",
    "load_dotenv()\n",
    "os.environ['OPENAI_API_KEY'] = os.getenv('OPENAI_API_KEY')\n",
    "# Read documents from the organized PDF folder\n",
    "reader = SimpleDirectoryReader(input_dir='data/preprocessed-1k-samples/PDF')\n",
    "docs = reader.load_data()\n",
    "\n",
    "# Load VectorStoreIndex directly from documents\n",
    "embed_model=OpenAIEmbedding(model=OpenAIEmbeddingModelType.TEXT_EMBED_3_LARGE,)\n",
    "index = VectorStoreIndex.from_documents(docs,embed_model=embed_model, show_progress=True)\n",
    "index.set_index_id('health')\n",
    "\n",
    "# Create the storage path if it doesn't exist\n",
    "os.makedirs('Health-RAG/RAG/VDB-1k-samples/PDF', exist_ok=True)\n",
    "\n",
    "# Persist the vector store\n",
    "index.storage_context.persist('Health-RAG/RAG/VDB-1k-samples/PDF')"
   ]
  }
 ],
 "metadata": {
  "kernelspec": {
   "display_name": "alpheya",
   "language": "python",
   "name": "python3"
  },
  "language_info": {
   "codemirror_mode": {
    "name": "ipython",
    "version": 3
   },
   "file_extension": ".py",
   "mimetype": "text/x-python",
   "name": "python",
   "nbconvert_exporter": "python",
   "pygments_lexer": "ipython3",
   "version": "3.12.8"
  }
 },
 "nbformat": 4,
 "nbformat_minor": 2
}
